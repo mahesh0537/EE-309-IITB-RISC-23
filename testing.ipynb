{
 "cells": [
  {
   "cell_type": "code",
   "execution_count": 1,
   "metadata": {},
   "outputs": [],
   "source": [
    "import numpy as np"
   ]
  },
  {
   "cell_type": "code",
   "execution_count": 214,
   "metadata": {},
   "outputs": [],
   "source": [
    "class ALUTesting:\n",
    "    def __init__(self) -> None:\n",
    "        self.a = None   #16 bit signed number\n",
    "        self.bOG = None   #16 bit signed number\n",
    "        self.op = None  #0 or 1\n",
    "        self.compliment = None #0 or 1\n",
    "        self.condition = None #2 bit condition\n",
    "        self.enable = '1' #0 or 1\n",
    "        self.zeroFlagPrevious = '0' #0 or 1\n",
    "        self.carryFlagPrevious = '0' #0 or 1\n",
    "        self.result = None  #16 bit signed number\n",
    "        self.zeroFlag = None    #0 or 1\n",
    "        self.carryFlag = None   #0 or 1\n",
    "        self.resultMask = '{0:016b}'.format(65535) #16 bit mask\n",
    "        self.zeroFlagMask = '1' #0 or 1\n",
    "        self.carryFlagMask = '1' #0 or 1\n",
    "        self.aluCompiled = False\n",
    "    \n",
    "    def updateAB(self, a, b):\n",
    "        self.a = np.binary_repr(a , width=16)\n",
    "        self.bOG = np.binary_repr(b, width=16)\n",
    "        self.A = a\n",
    "        self.B = b\n",
    "        if self.aluCompiled:\n",
    "            self()\n",
    "        else:\n",
    "            print(\"ALU not compiled\")\n",
    "            self.aluCompiled = True\n",
    "\n",
    "    def tempint16Conversion(self, num):\n",
    "        return np.int16(int(num, 2))\n",
    "\n",
    "\n",
    "    def __call__(self):\n",
    "        self.resultMask = '{0:016b}'.format(0) #16 bit mask\n",
    "        self.zeroFlagMask = '0' #0 or 1\n",
    "        self.carryFlagMask = '0' #0 or 1\n",
    "        if self.compliment == '1':\n",
    "            self.b = np.binary_repr(~self.tempint16Conversion(self.bOG), width = 16)\n",
    "        else:\n",
    "            self.b = self.bOG\n",
    "        if self.op == '0':\n",
    "            self.result =  np.binary_repr((self.tempint16Conversion(self.a) + self.tempint16Conversion(self.b)), width=16)\n",
    "            # print(self.A, self.B, self.tempint16Conversion(self.result))\n",
    "            if self.condition == '00':\n",
    "                self.carryFlag = '1' if self.tempint16Conversion(self.a) + self.tempint16Conversion(self.b) > 65535 else '0'\n",
    "                self.zeroFlag = '1' if self.tempint16Conversion(self.result) == 0 else '0'\n",
    "                self.resultMask = '{0:016b}'.format(65535)\n",
    "                self.zeroFlagMask = '1'\n",
    "                self.carryFlagMask = '1'\n",
    "            elif self.condition == '10' and self.carryFlagPrevious == '1':\n",
    "                self.carryFlag = '1' if self.tempint16Conversion(self.a) + self.tempint16Conversion(self.b) > 65535 else '0'\n",
    "                self.zeroFlag = '1' if self.tempint16Conversion(self.result) == 0 else '0'\n",
    "                self.resultMask = '{0:016b}'.format(65535)\n",
    "                self.zeroFlagMask = '1'\n",
    "                self.carryFlagMask = '1'\n",
    "            elif self.condition == '01' and self.zeroFlagPrevious == '1':\n",
    "                self.carryFlag = '1' if self.tempint16Conversion(self.a) + self.tempint16Conversion(self.b) > 65535 else '0'\n",
    "                self.zeroFlag = '1' if self.tempint16Conversion(self.result) == 0 else '0'\n",
    "                self.resultMask = '{0:016b}'.format(65535)\n",
    "                self.zeroFlagMask = '1'\n",
    "                self.carryFlagMask = '1'\n",
    "            elif self.condition == '11':\n",
    "                self.result = np.binary_repr((self.tempint16Conversion(self.result) + self.tempint16Conversion(self.carryFlagPrevious)), width=16)\n",
    "                self.carryFlag = '1' if self.tempint16Conversion(self.a) + self.tempint16Conversion(self.b) + self.tempint16Conversion(self.carryFlagPrevious) > 65535 else '0'\n",
    "                self.zeroFlag = '1' if self.tempint16Conversion(self.result) == 0 else '0'\n",
    "                self.resultMask = '{0:016b}'.format(65535)\n",
    "                self.zeroFlagMask = '1'\n",
    "                self.carryFlagMask = '1'\n",
    "        elif self.op == '1':\n",
    "            self.result = np.binary_repr(~(self.tempint16Conversion(self.a) & self.tempint16Conversion(self.b)), width=16)\n",
    "            if self.condition == '00':\n",
    "                self.zeroFlag = '1' if self.tempint16Conversion(self.result) == 0 else '0'\n",
    "                self.resultMask = '{0:016b}'.format(65535)\n",
    "                self.zeroFlagMask = '1'\n",
    "            elif self.condition == '10' and self.carryFlagPrevious == '1':\n",
    "                self.zeroFlag = '1' if self.tempint16Conversion(self.result) == 0 else '0'\n",
    "                self.resultMask = '{0:016b}'.format(65535)\n",
    "                self.zeroFlagMask = '1'\n",
    "            elif self.condition == '01' and self.zeroFlagPrevious == '1':\n",
    "                self.zeroFlag = '1' if self.tempint16Conversion(self.result) == 0 else '0'\n",
    "                self.resultMask = '{0:016b}'.format(65535)\n",
    "                self.zeroFlagMask = '1'\n",
    "            elif self.condition == '11':\n",
    "                self.result = np.binary_repr((self.tempint16Conversion(self.a) + self.tempint16Conversion(self.b)), width= 16)\n",
    "                self.zeroFlag = '1' if self.tempint16Conversion(self.result) == 0 else '0'\n",
    "                self.resultMask = '{0:016b}'.format(65535)\n",
    "                self.zeroFlagMask = '1'\n",
    "                self.carryFlag = '1' if self.tempint16Conversion(self.a) + self.tempint16Conversion(self.b) > 65535 else '0'\n",
    "                self.carryFlagMask = '1'\n",
    "        self.carryFlagMask = '0' #0 or 1\n",
    "    \n",
    "    def __str__(self) -> str:\n",
    "        return f\"{self.a} {self.bOG} {self.op} {self.compliment} {self.condition} {self.enable} {self.zeroFlagPrevious} {self.carryFlagPrevious} {self.result} {self.zeroFlag} {self.carryFlag} {self.resultMask} {self.zeroFlagMask} {self.carryFlagMask}\"\n",
    "    def __repr__(self) -> str:\n",
    "        return self.__str__()\n",
    "        "
   ]
  },
  {
   "cell_type": "code",
   "execution_count": 215,
   "metadata": {},
   "outputs": [],
   "source": [
    "alu = ALUTesting()"
   ]
  },
  {
   "cell_type": "code",
   "execution_count": 216,
   "metadata": {},
   "outputs": [
    {
     "name": "stdout",
     "output_type": "stream",
     "text": [
      "ALU not compiled\n",
      "1111111110011100 0000000000110010 0 0 11 1 1 1 1111111111001111 0 0 1111111111111111 1 0\n"
     ]
    }
   ],
   "source": [
    "alu.updateAB(-100, 50)\n",
    "alu.op = '0'\n",
    "alu.condition = '11'\n",
    "alu.compliment = '0'\n",
    "alu.zeroFlagPrevious = '1'\n",
    "alu.carryFlagPrevious = '1'\n",
    "alu.aluCompiled = True\n",
    "alu()\n",
    "print(alu)"
   ]
  },
  {
   "cell_type": "code",
   "execution_count": 210,
   "metadata": {},
   "outputs": [
    {
     "data": {
      "text/plain": [
       "'0000000000110010'"
      ]
     },
     "execution_count": 210,
     "metadata": {},
     "output_type": "execute_result"
    }
   ],
   "source": [
    "alu.b"
   ]
  },
  {
   "cell_type": "code",
   "execution_count": 177,
   "metadata": {},
   "outputs": [
    {
     "name": "stdout",
     "output_type": "stream",
     "text": [
      "0000000000110010\n",
      "1111111111001101\n"
     ]
    }
   ],
   "source": [
    "print(alu.b)\n",
    "print(np.binary_repr(~alu.tempint16Conversion(alu.b), width=16))"
   ]
  },
  {
   "cell_type": "code",
   "execution_count": 178,
   "metadata": {},
   "outputs": [
    {
     "data": {
      "text/plain": [
       "'0'"
      ]
     },
     "execution_count": 178,
     "metadata": {},
     "output_type": "execute_result"
    }
   ],
   "source": [
    "alu.compliment"
   ]
  },
  {
   "cell_type": "code",
   "execution_count": 179,
   "metadata": {},
   "outputs": [
    {
     "data": {
      "text/plain": [
       "50"
      ]
     },
     "execution_count": 179,
     "metadata": {},
     "output_type": "execute_result"
    }
   ],
   "source": [
    "alu.tempint16Conversion(alu.b)"
   ]
  },
  {
   "cell_type": "code",
   "execution_count": 180,
   "metadata": {},
   "outputs": [
    {
     "data": {
      "text/plain": [
       "'0'"
      ]
     },
     "execution_count": 180,
     "metadata": {},
     "output_type": "execute_result"
    }
   ],
   "source": [
    "alu.compliment"
   ]
  },
  {
   "cell_type": "code",
   "execution_count": 197,
   "metadata": {},
   "outputs": [],
   "source": [
    "alu.updateAB(5, 10)\n",
    "alu.op = '0'\n",
    "alu.condition = '01'\n",
    "alu.compliment = '0'\n",
    "alu.zeroFlagPrevious = '1'\n",
    "alu()\n",
    "textFlile = open(\"testBench/TRACEFILEalu.txt\", \"w\")\n",
    "for i in range(-100, 100):\n",
    "    alu.zeroFlagPrevious = '0'\n",
    "    alu.updateAB(i, 50)\n",
    "    textFlile.write(alu.__str__())\n",
    "    textFlile.write(\"\\n\")\n",
    "    alu.zeroFlagPrevious = '1'\n",
    "    alu.updateAB(i, 50)\n",
    "    textFlile.write(alu.__str__())\n",
    "    textFlile.write(\"\\n\")\n",
    "textFlile.close()"
   ]
  },
  {
   "cell_type": "code",
   "execution_count": 198,
   "metadata": {},
   "outputs": [],
   "source": [
    "alu.updateAB(5, 10)\n",
    "alu.op = '0'\n",
    "alu.condition = '10'\n",
    "alu.compliment = '1'\n",
    "alu.carryFlagPrevious = '1'\n",
    "alu()\n",
    "textFlile = open(\"testBench/TRACEFILEalu.txt\", \"w\")\n",
    "for i in range(-100, 100):\n",
    "    alu.carryFlagPrevious = '0'\n",
    "    alu.updateAB(i, 50)\n",
    "    textFlile.write(alu.__str__())\n",
    "    textFlile.write(\"\\n\")\n",
    "    alu.carryFlagPrevious = '1'\n",
    "    alu.updateAB(i, 50)\n",
    "    textFlile.write(alu.__str__())\n",
    "    textFlile.write(\"\\n\")\n",
    "textFlile.close()"
   ]
  },
  {
   "cell_type": "code",
   "execution_count": 199,
   "metadata": {},
   "outputs": [],
   "source": [
    "alu.updateAB(5, 10)\n",
    "alu.op = '0'\n",
    "alu.condition = '11'\n",
    "alu.compliment = '0'\n",
    "alu.carryFlagPrevious = '1'\n",
    "alu()\n",
    "textFlile = open(\"testBench/TRACEFILEalu.txt\", \"w\")\n",
    "for i in range(-100, 100):\n",
    "    alu.carryFlagPrevious = '0'\n",
    "    alu.compliment = '0' if i % 2 == 0 else '1'\n",
    "    alu.updateAB(i, 50)\n",
    "    textFlile.write(alu.__str__())\n",
    "    textFlile.write(\"\\n\")\n",
    "    alu.carryFlagPrevious = '1'\n",
    "    alu.compliment = '1' if i % 2 == 0 else '0'\n",
    "    alu.updateAB(i, 50)\n",
    "    textFlile.write(alu.__str__())\n",
    "    textFlile.write(\"\\n\")\n",
    "textFlile.close()"
   ]
  },
  {
   "cell_type": "code",
   "execution_count": 211,
   "metadata": {},
   "outputs": [],
   "source": [
    "alu.updateAB(5, 10)\n",
    "alu.op = '1'\n",
    "alu.condition = '11'\n",
    "alu.compliment = '0'\n",
    "alu.carryFlagPrevious = '1'\n",
    "alu()\n",
    "textFlile = open(\"testBench/TRACEFILEalu.txt\", \"w\")\n",
    "for i in range(-100, 100):\n",
    "    alu.carryFlagPrevious = '0'\n",
    "    alu.compliment = '0' if i % 2 == 0 else '1'\n",
    "    alu.updateAB(i, 50)\n",
    "    textFlile.write(alu.__str__())\n",
    "    textFlile.write(\"\\n\")\n",
    "    alu.carryFlagPrevious = '1'\n",
    "    alu.compliment = '1' if i % 2 == 0 else '0'\n",
    "    alu.updateAB(i, 50)\n",
    "    textFlile.write(alu.__str__())\n",
    "    textFlile.write(\"\\n\")\n",
    "textFlile.close()"
   ]
  },
  {
   "attachments": {},
   "cell_type": "markdown",
   "metadata": {},
   "source": [
    "# NAND Testing"
   ]
  },
  {
   "cell_type": "code",
   "execution_count": 219,
   "metadata": {},
   "outputs": [],
   "source": [
    "alu.updateAB(10, 10)\n",
    "alu.op = '1'\n",
    "alu.condition = '00'\n",
    "alu.compliment = '0'\n",
    "alu.carryFlagPrevious = '1'\n",
    "alu()\n",
    "# textFlile = open(\"testBench/TRACEFILEalu.txt\", \"w\")\n",
    "# print(alu)\n",
    "textFlile = open(\"testBench/TRACEFILEalu.txt\", \"w\")\n",
    "for i in range(-100, 100):\n",
    "    alu.carryFlagPrevious = '0'\n",
    "    alu.compliment = '0' if i % 2 == 0 else '1'\n",
    "    alu.updateAB(i, 50)\n",
    "    textFlile.write(alu.__str__())\n",
    "    textFlile.write(\"\\n\")\n",
    "    alu.carryFlagPrevious = '1'\n",
    "    alu.compliment = '1' if i % 2 == 0 else '0'\n",
    "    alu.updateAB(i, 50)\n",
    "    textFlile.write(alu.__str__())\n",
    "    textFlile.write(\"\\n\")\n",
    "textFlile.close()"
   ]
  },
  {
   "cell_type": "code",
   "execution_count": 220,
   "metadata": {},
   "outputs": [],
   "source": [
    "alu.updateAB(10, 10)\n",
    "alu.op = '1'\n",
    "alu.condition = '10'\n",
    "alu.compliment = '0'\n",
    "alu.carryFlagPrevious = '1'\n",
    "alu()\n",
    "# textFlile = open(\"testBench/TRACEFILEalu.txt\", \"w\")\n",
    "# print(alu)\n",
    "textFlile = open(\"testBench/TRACEFILEalu.txt\", \"w\")\n",
    "for i in range(-100, 100):\n",
    "    alu.carryFlagPrevious = '0'\n",
    "    alu.compliment = '0' if i % 2 == 0 else '1'\n",
    "    alu.updateAB(i, 50)\n",
    "    textFlile.write(alu.__str__())\n",
    "    textFlile.write(\"\\n\")\n",
    "    alu.carryFlagPrevious = '1'\n",
    "    alu.compliment = '1' if i % 2 == 0 else '0'\n",
    "    alu.updateAB(i, 50)\n",
    "    textFlile.write(alu.__str__())\n",
    "    textFlile.write(\"\\n\")\n",
    "textFlile.close()"
   ]
  },
  {
   "cell_type": "code",
   "execution_count": 221,
   "metadata": {},
   "outputs": [],
   "source": [
    "alu.updateAB(10, 10)\n",
    "alu.op = '1'\n",
    "alu.condition = '01'\n",
    "alu.compliment = '0'\n",
    "alu.zeroFlagPrevious = '1'\n",
    "alu()\n",
    "# textFlile = open(\"testBench/TRACEFILEalu.txt\", \"w\")\n",
    "# print(alu)\n",
    "textFlile = open(\"testBench/TRACEFILEalu.txt\", \"w\")\n",
    "for i in range(-100, 100):\n",
    "    alu.zeroFlagPrevious = '0'\n",
    "    alu.compliment = '0' if i % 2 == 0 else '1'\n",
    "    alu.updateAB(i, 50)\n",
    "    textFlile.write(alu.__str__())\n",
    "    textFlile.write(\"\\n\")\n",
    "    alu.zeroFlagPrevious = '1'\n",
    "    alu.compliment = '1' if i % 2 == 0 else '0'\n",
    "    alu.updateAB(i, 50)\n",
    "    textFlile.write(alu.__str__())\n",
    "    textFlile.write(\"\\n\")\n",
    "textFlile.close()"
   ]
  }
 ],
 "metadata": {
  "kernelspec": {
   "display_name": "Python 3",
   "language": "python",
   "name": "python3"
  },
  "language_info": {
   "codemirror_mode": {
    "name": "ipython",
    "version": 3
   },
   "file_extension": ".py",
   "mimetype": "text/x-python",
   "name": "python",
   "nbconvert_exporter": "python",
   "pygments_lexer": "ipython3",
   "version": "3.10.6"
  },
  "orig_nbformat": 4
 },
 "nbformat": 4,
 "nbformat_minor": 2
}
