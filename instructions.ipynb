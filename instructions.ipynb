{
 "cells": [
  {
   "cell_type": "code",
   "execution_count": 16,
   "metadata": {},
   "outputs": [],
   "source": [
    "skeltonTop = \"\"\n",
    "skeltonBottom = \"\"\n",
    "imffile = open('instructionMemSkelton.vhdl', 'r')\n",
    "count = 0\n",
    "for line in imffile:\n",
    "    count += 1\n",
    "    if count < 16:\n",
    "        skeltonTop += line\n",
    "    else:\n",
    "        skeltonBottom += line"
   ]
  },
  {
   "cell_type": "code",
   "execution_count": 9,
   "metadata": {},
   "outputs": [],
   "source": [
    "instr = '00000010'\n",
    "instr1 = '01000001'"
   ]
  },
  {
   "cell_type": "code",
   "execution_count": 19,
   "metadata": {},
   "outputs": [
    {
     "name": "stdout",
     "output_type": "stream",
     "text": [
      "library ieee;\n",
      "use ieee.std_logic_1164.all;\n",
      "use ieee.numeric_std.all;\n",
      "\n",
      "entity instructionMemory is\n",
      "    port(\n",
      "        clk : in std_logic;\n",
      "        address : in std_logic_vector(15 downto 0);\n",
      "        instruction : out std_logic_vector(15 downto 0)\n",
      "    );\n",
      "end entity instructionMemory;\n",
      "\n",
      "architecture instructions of instructionMemory is\n",
      "    type instructionMemoryDataType is array (0 to 255) of std_logic_vector(7 downto 0);\n",
      "    signal instructionMemoryData : instructionMemoryDataType := (\n",
      "\n",
      "   \n",
      "    );\n",
      "begin \n",
      "    process(clk)\n",
      "        begin\n",
      "            if clk = '1'then\n",
      "                instruction(15 downto 8) <= instructionMemoryData(to_integer(unsigned(address)));\n",
      "                instruction(7 downto 0) <= instructionMemoryData(to_integer(unsigned(address))+1);\n",
      "            end if;\n",
      "    end process;\n",
      "end architecture instructions;\n"
     ]
    }
   ],
   "source": [
    "print(skeltonTop)\n",
    "# print(instData)\n",
    "print(skeltonBottom)"
   ]
  },
  {
   "cell_type": "code",
   "execution_count": 12,
   "metadata": {},
   "outputs": [],
   "source": [
    "instData = \"\"\n",
    "for i in range(0, 128):\n",
    "    instData += '\"'+ instr + '\", '+ '\\n'\n",
    "    instData += '\"'+ instr1 + '\", '+ '\\n'\n",
    "instData = instData[:-3]"
   ]
  },
  {
   "cell_type": "code",
   "execution_count": 13,
   "metadata": {},
   "outputs": [
    {
     "data": {
      "text/plain": [
       "3325"
      ]
     },
     "execution_count": 13,
     "metadata": {},
     "output_type": "execute_result"
    }
   ],
   "source": [
    "len(instData)"
   ]
  },
  {
   "cell_type": "code",
   "execution_count": 15,
   "metadata": {},
   "outputs": [],
   "source": [
    "insfilewritter = open('instructionMem.vhdl', 'w')\n",
    "insfilewritter.write(skeltonTop)\n",
    "insfilewritter.write(instData)\n",
    "insfilewritter.write(skeltonBottom)\n",
    "insfilewritter.close()"
   ]
  },
  {
   "cell_type": "code",
   "execution_count": 1,
   "metadata": {},
   "outputs": [],
   "source": [
    "import numpy as np"
   ]
  },
  {
   "cell_type": "code",
   "execution_count": 3,
   "metadata": {},
   "outputs": [
    {
     "data": {
      "text/plain": [
       "'000001000'"
      ]
     },
     "execution_count": 3,
     "metadata": {},
     "output_type": "execute_result"
    }
   ],
   "source": [
    "np.binary_repr(8, width=9)"
   ]
  }
 ],
 "metadata": {
  "kernelspec": {
   "display_name": "Python 3",
   "language": "python",
   "name": "python3"
  },
  "language_info": {
   "codemirror_mode": {
    "name": "ipython",
    "version": 3
   },
   "file_extension": ".py",
   "mimetype": "text/x-python",
   "name": "python",
   "nbconvert_exporter": "python",
   "pygments_lexer": "ipython3",
   "version": "3.10.6"
  },
  "orig_nbformat": 4
 },
 "nbformat": 4,
 "nbformat_minor": 2
}
