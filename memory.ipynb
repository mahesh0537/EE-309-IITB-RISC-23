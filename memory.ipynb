{
 "cells": [
  {
   "cell_type": "code",
   "execution_count": 1,
   "metadata": {},
   "outputs": [],
   "source": [
    "import numpy as np\n",
    "import io"
   ]
  },
  {
   "cell_type": "code",
   "execution_count": null,
   "metadata": {},
   "outputs": [],
   "source": []
  },
  {
   "cell_type": "code",
   "execution_count": 2,
   "metadata": {},
   "outputs": [],
   "source": [
    "class Memory:\n",
    "    def __init__(self):\n",
    "        n = 128\n",
    "        self.mem = np.array(['x\"0000\"' for i in range(n)])\n",
    "        self.applyCOunter = np.array([False for i in range(n)])\n",
    "        self.applyCOunter[0] = True\n",
    "\n",
    "    def memWritter(self, textFile):\n",
    "        counter = 0\n",
    "        print(type(self.mem))\n",
    "        for i in range(int(len(self.mem)/4)):\n",
    "            bytes_io = io.BytesIO()\n",
    "            temp = np.array([self.mem[4*counter:4*(counter+1)]])\n",
    "            np.savetxt(bytes_io, temp, fmt='%s', delimiter=',')\n",
    "            textFile.write( \"\\t\\t\"+bytes_io.getvalue().decode()[:-1])\n",
    "            if self.applyCOunter[counter]:\n",
    "                textFile.write(', --'+ hex(counter) + '\\n')\n",
    "            else:\n",
    "                textFile.write(',\\n')\n",
    "            counter += 1\n",
    "    \n",
    "    def memRefresher(self):\n",
    "        skeltonTOP = \"\"\n",
    "        skeltonBOTTOM = \"\"\n",
    "        lineNum = 20\n",
    "        memoryFile = io.open(\"memSkelton.vhdl\", \"r\", encoding=\"utf-8\")\n",
    "        counter = 0\n",
    "        for line in memoryFile:\n",
    "            counter += 1\n",
    "            if counter < lineNum:\n",
    "                skeltonTOP += line\n",
    "            elif counter > lineNum:\n",
    "                skeltonBOTTOM += line\n",
    "        memoryFile.close()\n",
    "\n",
    "        memUpdater = io.open(\"memory.vhdl\", \"w\")\n",
    "        memUpdater.write(skeltonTOP)\n",
    "        self.memWritter(memUpdater)\n",
    "        memUpdater.write(skeltonBOTTOM)\n",
    "        memUpdater.close()"
   ]
  },
  {
   "cell_type": "code",
   "execution_count": 3,
   "metadata": {},
   "outputs": [
    {
     "name": "stdout",
     "output_type": "stream",
     "text": [
      "<class 'numpy.ndarray'>\n"
     ]
    }
   ],
   "source": [
    "mem = Memory()\n",
    "mem.memRefresher()"
   ]
  },
  {
   "cell_type": "code",
   "execution_count": 4,
   "metadata": {},
   "outputs": [
    {
     "data": {
      "text/plain": [
       "(128,)"
      ]
     },
     "execution_count": 4,
     "metadata": {},
     "output_type": "execute_result"
    }
   ],
   "source": [
    "mem.mem.shape"
   ]
  },
  {
   "cell_type": "code",
   "execution_count": 2,
   "metadata": {},
   "outputs": [
    {
     "data": {
      "text/plain": [
       "0"
      ]
     },
     "execution_count": 2,
     "metadata": {},
     "output_type": "execute_result"
    }
   ],
   "source": []
  }
 ],
 "metadata": {
  "kernelspec": {
   "display_name": "Python 3",
   "language": "python",
   "name": "python3"
  },
  "language_info": {
   "codemirror_mode": {
    "name": "ipython",
    "version": 3
   },
   "file_extension": ".py",
   "mimetype": "text/x-python",
   "name": "python",
   "nbconvert_exporter": "python",
   "pygments_lexer": "ipython3",
   "version": "3.10.6"
  },
  "orig_nbformat": 4
 },
 "nbformat": 4,
 "nbformat_minor": 2
}
